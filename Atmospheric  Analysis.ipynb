{
 "cells": [
  {
   "cell_type": "code",
   "execution_count": 3,
   "id": "d69a4883-68a6-4502-bdc6-1b043f36810b",
   "metadata": {},
   "outputs": [],
   "source": [
    "import pandas as pd \n",
    "import numpy as np\n",
    "import matplotlib.pyplot as plt\n",
    "import seaborn as sns"
   ]
  },
  {
   "cell_type": "code",
   "execution_count": 4,
   "id": "6834d3f7-b2b4-41ee-adec-6c962761db3c",
   "metadata": {},
   "outputs": [
    {
     "ename": "FileNotFoundError",
     "evalue": "[Errno 2] No such file or directory: 'C:\\\\Users\\\\shive\\\\OneDrive\\\\Desktop\\\\Projects\\\\EXTRA\\\\Python\\\\weatherHistory.csv'",
     "output_type": "error",
     "traceback": [
      "\u001b[1;31m---------------------------------------------------------------------------\u001b[0m",
      "\u001b[1;31mFileNotFoundError\u001b[0m                         Traceback (most recent call last)",
      "Cell \u001b[1;32mIn[4], line 1\u001b[0m\n\u001b[1;32m----> 1\u001b[0m df \u001b[38;5;241m=\u001b[39m pd\u001b[38;5;241m.\u001b[39mread_csv(\u001b[38;5;124mr\u001b[39m\u001b[38;5;124m'\u001b[39m\u001b[38;5;124mC:\u001b[39m\u001b[38;5;124m\\\u001b[39m\u001b[38;5;124mUsers\u001b[39m\u001b[38;5;124m\\\u001b[39m\u001b[38;5;124mshive\u001b[39m\u001b[38;5;124m\\\u001b[39m\u001b[38;5;124mOneDrive\u001b[39m\u001b[38;5;124m\\\u001b[39m\u001b[38;5;124mDesktop\u001b[39m\u001b[38;5;124m\\\u001b[39m\u001b[38;5;124mProjects\u001b[39m\u001b[38;5;124m\\\u001b[39m\u001b[38;5;124mEXTRA\u001b[39m\u001b[38;5;124m\\\u001b[39m\u001b[38;5;124mPython\u001b[39m\u001b[38;5;124m\\\u001b[39m\u001b[38;5;124mweatherHistory.csv\u001b[39m\u001b[38;5;124m'\u001b[39m, index_col\u001b[38;5;241m=\u001b[39m\u001b[38;5;124m'\u001b[39m\u001b[38;5;124mFormatted Date\u001b[39m\u001b[38;5;124m'\u001b[39m)\n\u001b[0;32m      3\u001b[0m df\u001b[38;5;241m.\u001b[39mhead()\n",
      "File \u001b[1;32m~\\anaconda3\\Lib\\site-packages\\pandas\\io\\parsers\\readers.py:1026\u001b[0m, in \u001b[0;36mread_csv\u001b[1;34m(filepath_or_buffer, sep, delimiter, header, names, index_col, usecols, dtype, engine, converters, true_values, false_values, skipinitialspace, skiprows, skipfooter, nrows, na_values, keep_default_na, na_filter, verbose, skip_blank_lines, parse_dates, infer_datetime_format, keep_date_col, date_parser, date_format, dayfirst, cache_dates, iterator, chunksize, compression, thousands, decimal, lineterminator, quotechar, quoting, doublequote, escapechar, comment, encoding, encoding_errors, dialect, on_bad_lines, delim_whitespace, low_memory, memory_map, float_precision, storage_options, dtype_backend)\u001b[0m\n\u001b[0;32m   1013\u001b[0m kwds_defaults \u001b[38;5;241m=\u001b[39m _refine_defaults_read(\n\u001b[0;32m   1014\u001b[0m     dialect,\n\u001b[0;32m   1015\u001b[0m     delimiter,\n\u001b[1;32m   (...)\u001b[0m\n\u001b[0;32m   1022\u001b[0m     dtype_backend\u001b[38;5;241m=\u001b[39mdtype_backend,\n\u001b[0;32m   1023\u001b[0m )\n\u001b[0;32m   1024\u001b[0m kwds\u001b[38;5;241m.\u001b[39mupdate(kwds_defaults)\n\u001b[1;32m-> 1026\u001b[0m \u001b[38;5;28;01mreturn\u001b[39;00m _read(filepath_or_buffer, kwds)\n",
      "File \u001b[1;32m~\\anaconda3\\Lib\\site-packages\\pandas\\io\\parsers\\readers.py:620\u001b[0m, in \u001b[0;36m_read\u001b[1;34m(filepath_or_buffer, kwds)\u001b[0m\n\u001b[0;32m    617\u001b[0m _validate_names(kwds\u001b[38;5;241m.\u001b[39mget(\u001b[38;5;124m\"\u001b[39m\u001b[38;5;124mnames\u001b[39m\u001b[38;5;124m\"\u001b[39m, \u001b[38;5;28;01mNone\u001b[39;00m))\n\u001b[0;32m    619\u001b[0m \u001b[38;5;66;03m# Create the parser.\u001b[39;00m\n\u001b[1;32m--> 620\u001b[0m parser \u001b[38;5;241m=\u001b[39m TextFileReader(filepath_or_buffer, \u001b[38;5;241m*\u001b[39m\u001b[38;5;241m*\u001b[39mkwds)\n\u001b[0;32m    622\u001b[0m \u001b[38;5;28;01mif\u001b[39;00m chunksize \u001b[38;5;129;01mor\u001b[39;00m iterator:\n\u001b[0;32m    623\u001b[0m     \u001b[38;5;28;01mreturn\u001b[39;00m parser\n",
      "File \u001b[1;32m~\\anaconda3\\Lib\\site-packages\\pandas\\io\\parsers\\readers.py:1620\u001b[0m, in \u001b[0;36mTextFileReader.__init__\u001b[1;34m(self, f, engine, **kwds)\u001b[0m\n\u001b[0;32m   1617\u001b[0m     \u001b[38;5;28mself\u001b[39m\u001b[38;5;241m.\u001b[39moptions[\u001b[38;5;124m\"\u001b[39m\u001b[38;5;124mhas_index_names\u001b[39m\u001b[38;5;124m\"\u001b[39m] \u001b[38;5;241m=\u001b[39m kwds[\u001b[38;5;124m\"\u001b[39m\u001b[38;5;124mhas_index_names\u001b[39m\u001b[38;5;124m\"\u001b[39m]\n\u001b[0;32m   1619\u001b[0m \u001b[38;5;28mself\u001b[39m\u001b[38;5;241m.\u001b[39mhandles: IOHandles \u001b[38;5;241m|\u001b[39m \u001b[38;5;28;01mNone\u001b[39;00m \u001b[38;5;241m=\u001b[39m \u001b[38;5;28;01mNone\u001b[39;00m\n\u001b[1;32m-> 1620\u001b[0m \u001b[38;5;28mself\u001b[39m\u001b[38;5;241m.\u001b[39m_engine \u001b[38;5;241m=\u001b[39m \u001b[38;5;28mself\u001b[39m\u001b[38;5;241m.\u001b[39m_make_engine(f, \u001b[38;5;28mself\u001b[39m\u001b[38;5;241m.\u001b[39mengine)\n",
      "File \u001b[1;32m~\\anaconda3\\Lib\\site-packages\\pandas\\io\\parsers\\readers.py:1880\u001b[0m, in \u001b[0;36mTextFileReader._make_engine\u001b[1;34m(self, f, engine)\u001b[0m\n\u001b[0;32m   1878\u001b[0m     \u001b[38;5;28;01mif\u001b[39;00m \u001b[38;5;124m\"\u001b[39m\u001b[38;5;124mb\u001b[39m\u001b[38;5;124m\"\u001b[39m \u001b[38;5;129;01mnot\u001b[39;00m \u001b[38;5;129;01min\u001b[39;00m mode:\n\u001b[0;32m   1879\u001b[0m         mode \u001b[38;5;241m+\u001b[39m\u001b[38;5;241m=\u001b[39m \u001b[38;5;124m\"\u001b[39m\u001b[38;5;124mb\u001b[39m\u001b[38;5;124m\"\u001b[39m\n\u001b[1;32m-> 1880\u001b[0m \u001b[38;5;28mself\u001b[39m\u001b[38;5;241m.\u001b[39mhandles \u001b[38;5;241m=\u001b[39m get_handle(\n\u001b[0;32m   1881\u001b[0m     f,\n\u001b[0;32m   1882\u001b[0m     mode,\n\u001b[0;32m   1883\u001b[0m     encoding\u001b[38;5;241m=\u001b[39m\u001b[38;5;28mself\u001b[39m\u001b[38;5;241m.\u001b[39moptions\u001b[38;5;241m.\u001b[39mget(\u001b[38;5;124m\"\u001b[39m\u001b[38;5;124mencoding\u001b[39m\u001b[38;5;124m\"\u001b[39m, \u001b[38;5;28;01mNone\u001b[39;00m),\n\u001b[0;32m   1884\u001b[0m     compression\u001b[38;5;241m=\u001b[39m\u001b[38;5;28mself\u001b[39m\u001b[38;5;241m.\u001b[39moptions\u001b[38;5;241m.\u001b[39mget(\u001b[38;5;124m\"\u001b[39m\u001b[38;5;124mcompression\u001b[39m\u001b[38;5;124m\"\u001b[39m, \u001b[38;5;28;01mNone\u001b[39;00m),\n\u001b[0;32m   1885\u001b[0m     memory_map\u001b[38;5;241m=\u001b[39m\u001b[38;5;28mself\u001b[39m\u001b[38;5;241m.\u001b[39moptions\u001b[38;5;241m.\u001b[39mget(\u001b[38;5;124m\"\u001b[39m\u001b[38;5;124mmemory_map\u001b[39m\u001b[38;5;124m\"\u001b[39m, \u001b[38;5;28;01mFalse\u001b[39;00m),\n\u001b[0;32m   1886\u001b[0m     is_text\u001b[38;5;241m=\u001b[39mis_text,\n\u001b[0;32m   1887\u001b[0m     errors\u001b[38;5;241m=\u001b[39m\u001b[38;5;28mself\u001b[39m\u001b[38;5;241m.\u001b[39moptions\u001b[38;5;241m.\u001b[39mget(\u001b[38;5;124m\"\u001b[39m\u001b[38;5;124mencoding_errors\u001b[39m\u001b[38;5;124m\"\u001b[39m, \u001b[38;5;124m\"\u001b[39m\u001b[38;5;124mstrict\u001b[39m\u001b[38;5;124m\"\u001b[39m),\n\u001b[0;32m   1888\u001b[0m     storage_options\u001b[38;5;241m=\u001b[39m\u001b[38;5;28mself\u001b[39m\u001b[38;5;241m.\u001b[39moptions\u001b[38;5;241m.\u001b[39mget(\u001b[38;5;124m\"\u001b[39m\u001b[38;5;124mstorage_options\u001b[39m\u001b[38;5;124m\"\u001b[39m, \u001b[38;5;28;01mNone\u001b[39;00m),\n\u001b[0;32m   1889\u001b[0m )\n\u001b[0;32m   1890\u001b[0m \u001b[38;5;28;01massert\u001b[39;00m \u001b[38;5;28mself\u001b[39m\u001b[38;5;241m.\u001b[39mhandles \u001b[38;5;129;01mis\u001b[39;00m \u001b[38;5;129;01mnot\u001b[39;00m \u001b[38;5;28;01mNone\u001b[39;00m\n\u001b[0;32m   1891\u001b[0m f \u001b[38;5;241m=\u001b[39m \u001b[38;5;28mself\u001b[39m\u001b[38;5;241m.\u001b[39mhandles\u001b[38;5;241m.\u001b[39mhandle\n",
      "File \u001b[1;32m~\\anaconda3\\Lib\\site-packages\\pandas\\io\\common.py:873\u001b[0m, in \u001b[0;36mget_handle\u001b[1;34m(path_or_buf, mode, encoding, compression, memory_map, is_text, errors, storage_options)\u001b[0m\n\u001b[0;32m    868\u001b[0m \u001b[38;5;28;01melif\u001b[39;00m \u001b[38;5;28misinstance\u001b[39m(handle, \u001b[38;5;28mstr\u001b[39m):\n\u001b[0;32m    869\u001b[0m     \u001b[38;5;66;03m# Check whether the filename is to be opened in binary mode.\u001b[39;00m\n\u001b[0;32m    870\u001b[0m     \u001b[38;5;66;03m# Binary mode does not support 'encoding' and 'newline'.\u001b[39;00m\n\u001b[0;32m    871\u001b[0m     \u001b[38;5;28;01mif\u001b[39;00m ioargs\u001b[38;5;241m.\u001b[39mencoding \u001b[38;5;129;01mand\u001b[39;00m \u001b[38;5;124m\"\u001b[39m\u001b[38;5;124mb\u001b[39m\u001b[38;5;124m\"\u001b[39m \u001b[38;5;129;01mnot\u001b[39;00m \u001b[38;5;129;01min\u001b[39;00m ioargs\u001b[38;5;241m.\u001b[39mmode:\n\u001b[0;32m    872\u001b[0m         \u001b[38;5;66;03m# Encoding\u001b[39;00m\n\u001b[1;32m--> 873\u001b[0m         handle \u001b[38;5;241m=\u001b[39m \u001b[38;5;28mopen\u001b[39m(\n\u001b[0;32m    874\u001b[0m             handle,\n\u001b[0;32m    875\u001b[0m             ioargs\u001b[38;5;241m.\u001b[39mmode,\n\u001b[0;32m    876\u001b[0m             encoding\u001b[38;5;241m=\u001b[39mioargs\u001b[38;5;241m.\u001b[39mencoding,\n\u001b[0;32m    877\u001b[0m             errors\u001b[38;5;241m=\u001b[39merrors,\n\u001b[0;32m    878\u001b[0m             newline\u001b[38;5;241m=\u001b[39m\u001b[38;5;124m\"\u001b[39m\u001b[38;5;124m\"\u001b[39m,\n\u001b[0;32m    879\u001b[0m         )\n\u001b[0;32m    880\u001b[0m     \u001b[38;5;28;01melse\u001b[39;00m:\n\u001b[0;32m    881\u001b[0m         \u001b[38;5;66;03m# Binary mode\u001b[39;00m\n\u001b[0;32m    882\u001b[0m         handle \u001b[38;5;241m=\u001b[39m \u001b[38;5;28mopen\u001b[39m(handle, ioargs\u001b[38;5;241m.\u001b[39mmode)\n",
      "\u001b[1;31mFileNotFoundError\u001b[0m: [Errno 2] No such file or directory: 'C:\\\\Users\\\\shive\\\\OneDrive\\\\Desktop\\\\Projects\\\\EXTRA\\\\Python\\\\weatherHistory.csv'"
     ]
    }
   ],
   "source": [
    "df = pd.read_csv(r'C:\\Users\\shive\\OneDrive\\Desktop\\Projects\\EXTRA\\Python\\weatherHistory.csv', index_col='Formatted Date')\n",
    "\n",
    "df.head()"
   ]
  },
  {
   "cell_type": "markdown",
   "id": "a385a65f-9c20-4501-a503-1c56b3dd97e7",
   "metadata": {},
   "source": [
    "## Overview of the Data "
   ]
  },
  {
   "cell_type": "code",
   "execution_count": null,
   "id": "370a0c88-1e9c-4e24-8c99-6aeba3dd01d5",
   "metadata": {},
   "outputs": [],
   "source": [
    "df.info()"
   ]
  },
  {
   "cell_type": "code",
   "execution_count": null,
   "id": "4c59f3f9-355a-4a28-9631-c28ba942b50a",
   "metadata": {},
   "outputs": [],
   "source": [
    "# Dictionery of old and new column names\n",
    "rename_dict = {\n",
    "    'Summary': 'summary',\n",
    "    'Precip Type': 'precip_type',\n",
    "    'Temperature (C)': 'temp',\n",
    "    'Apparent Temperature (C)': 'apparent_temp',\n",
    "    'Humidity': 'humidity',\n",
    "    'Wind Speed (km/h)': 'wind_speed',\n",
    "    'Wind Bearing (degrees)': 'wind_bearing',\n",
    "    'Visibility (km)': 'visibility',\n",
    "    'Loud Cover': 'cloud_cover',\n",
    "    'Pressure (millibars)': 'pressure',\n",
    "    'Daily Summary': 'daily_summary'\n",
    "}\n",
    "\n",
    "# Rename columns \n",
    "df.rename(columns = rename_dict, inplace=True)\n",
    "\n",
    "# Rename index name\n",
    "df.index.names = ['date_time']"
   ]
  },
  {
   "cell_type": "code",
   "execution_count": null,
   "id": "7194fc5b-57a4-4518-bfa9-359490241f98",
   "metadata": {},
   "outputs": [],
   "source": [
    "# Basic statistics on table column values \n",
    "df.describe()"
   ]
  },
  {
   "cell_type": "code",
   "execution_count": null,
   "id": "7431625e-086d-4274-818e-d460be911a47",
   "metadata": {},
   "outputs": [],
   "source": [
    "print(df.isnull().sum())"
   ]
  },
  {
   "cell_type": "code",
   "execution_count": null,
   "id": "74e850b3-f87f-4f55-ad35-d8992f2fee96",
   "metadata": {},
   "outputs": [],
   "source": [
    "# Find the null rows and the total rows\n",
    "null_precip_type = df.precip_type.isnull().sum() \n",
    "total_rows = df.shape[0]\n",
    "\n",
    "# Calculate and print the percentage of null rows in the precip_type column\n",
    "percent_null = (null_precip_type / total_rows) * 100\n",
    "print('Null prevalence in precip_type column: %.2f' %percent_null, '%')"
   ]
  },
  {
   "cell_type": "code",
   "execution_count": null,
   "id": "5b64b232-f9b6-477c-a65d-904a7197aeda",
   "metadata": {},
   "outputs": [],
   "source": [
    "df.precip_type.value_counts()"
   ]
  },
  {
   "cell_type": "code",
   "execution_count": null,
   "id": "79c98914-a57e-46a3-9bc2-712f44b7f7bc",
   "metadata": {},
   "outputs": [],
   "source": [
    "df.cloud_cover.value_counts()"
   ]
  },
  {
   "cell_type": "code",
   "execution_count": null,
   "id": "6f17abed-326d-42bc-9f10-3e2f5d145565",
   "metadata": {},
   "outputs": [],
   "source": [
    "# Dropping the cloud cover column\n",
    "df.drop(columns=['cloud_cover'], inplace=True)"
   ]
  },
  {
   "cell_type": "code",
   "execution_count": null,
   "id": "ab4cbc1d-8f25-4a1b-bd1d-f37cee097623",
   "metadata": {},
   "outputs": [],
   "source": [
    "daily_summary_cat = df.daily_summary.value_counts().count()\n",
    "\n",
    "print(f'Categories in the Daily Summary column: {daily_summary_cat}')"
   ]
  },
  {
   "cell_type": "markdown",
   "id": "643326e7-6bea-422f-a808-323406235171",
   "metadata": {},
   "source": [
    "## Data Wrangling"
   ]
  },
  {
   "cell_type": "code",
   "execution_count": null,
   "id": "2db6cdae-1d0a-48a4-ad14-afc8ce8ed877",
   "metadata": {},
   "outputs": [],
   "source": [
    "# Set index to a Pandas datetime format\n",
    "df.index = pd.to_datetime(df.index, utc=True)"
   ]
  },
  {
   "cell_type": "code",
   "execution_count": null,
   "id": "daddcc3e-b275-444e-adc4-73ee18899ba3",
   "metadata": {},
   "outputs": [],
   "source": [
    "# Scaling Humidity to percent and changing the data type to int8\n",
    "df.humidity = (df.humidity * 100).astype('int8')\n"
   ]
  },
  {
   "cell_type": "code",
   "execution_count": null,
   "id": "63746e84-e09e-47f6-a3ed-f8fe7dc28d5f",
   "metadata": {},
   "outputs": [],
   "source": [
    "# Changing the precipitation type feature to a categorical data type \n",
    "df.precip_type = df.precip_type.astype('category')"
   ]
  },
  {
   "cell_type": "markdown",
   "id": "000af76c-1d56-4c82-af3e-22b0536383fc",
   "metadata": {},
   "source": [
    "## Numerical Distributions\n"
   ]
  },
  {
   "cell_type": "code",
   "execution_count": null,
   "id": "27f3a6a3-3cfe-4fcc-9d19-c3d302baf6f9",
   "metadata": {},
   "outputs": [],
   "source": [
    "num_cols = ['temp', \n",
    "            'apparent_temp', \n",
    "            'humidity', \n",
    "            'wind_speed', \n",
    "            'wind_bearing', \n",
    "            'visibility', \n",
    "            'pressure']\n",
    "\n",
    "df[num_cols].hist(figsize=(10, 8))\n",
    "plt.tight_layout()\n",
    "plt.show()\n"
   ]
  },
  {
   "cell_type": "markdown",
   "id": "b67b7cf2-860a-4aec-a921-cb711c57929e",
   "metadata": {},
   "source": [
    "## Categorical Analysis"
   ]
  },
  {
   "cell_type": "code",
   "execution_count": null,
   "id": "4e25f43e-56ff-4306-9175-958d5f5ff39e",
   "metadata": {},
   "outputs": [],
   "source": [
    "sns.countplot(x='precip_type', data=df)\n",
    "plt.title('Distribution of Precipitation Type')\n",
    "plt.xlabel('Precipitation Type')\n",
    "plt.show()\n"
   ]
  },
  {
   "cell_type": "code",
   "execution_count": null,
   "id": "d3bcf183-5b06-46a3-9b78-94cd5cac30d6",
   "metadata": {},
   "outputs": [],
   "source": [
    "# Extracting the month feature from date time\n",
    "df['month'] = df.index.month\n",
    "\n",
    "# Grouping the features of interest by month\n",
    "monthly_data = df.groupby('month')[[\n",
    "    'temp',\n",
    "    'humidity',\n",
    "    'wind_speed',\n",
    "    'wind_bearing',\n",
    "    'visibility',\n",
    "    'pressure'\n",
    "]]\n",
    "\n",
    "# Creating subplot layout\n",
    "fig, ax = plt.subplots(2,3, figsize=(15,10))\n",
    "\n",
    "# Main figure title\n",
    "fig.suptitle('Year-over-Year Changes in Recorded Features')\n",
    "\n",
    "# Temperature line plot\n",
    "sns.lineplot(x='month', y='temp', data=df, color='tab:blue', ax=ax[0,0])\n",
    "ax[0,0].set_ylabel('Temperature (C)')\n",
    "ax[0,0].set_xlabel('Time (month)')\n",
    "\n",
    "# Humidity line plot \n",
    "sns.lineplot(x='month', y='humidity', data=df, color='tab:red', ax=ax[0,1])\n",
    "ax[0,1].set_ylabel('Humidity (%)')\n",
    "ax[0,1].set_xlabel('Time (month)')\n",
    "\n",
    "# Wind speed line plot\n",
    "sns.lineplot(x='month', y='wind_speed', data=df, color='tab:purple', ax=ax[0,2])\n",
    "ax[0,2].set_ylabel('Wind Speed (km/h)')\n",
    "ax[0,2].set_xlabel('Time (month)')\n",
    "\n",
    "# Wind bearing line plot\n",
    "sns.lineplot(x='month', y='wind_bearing', data=df, color='tab:green', ax=ax[1,0])\n",
    "ax[1,0].set_ylabel('Wind Bearing(degrees)')\n",
    "ax[1,0].set_xlabel('Time (month)')\n",
    "\n",
    "# Visibility line plot \n",
    "sns.lineplot(x='month', y='visibility', data=df, color='tab:pink', ax=ax[1,1])\n",
    "ax[1,1].set_ylabel('Visibility (km)')\n",
    "ax[1,1].set_xlabel('Time (month)')\n",
    "\n",
    "# Pressure line plot\n",
    "sns.lineplot(x='month', y='pressure', data=df, color='tab:orange', ax=ax[1,2])\n",
    "ax[1,2].set_ylabel('Pressure (milibars)')\n",
    "ax[1,2].set_xlabel('Time (month)')"
   ]
  },
  {
   "cell_type": "code",
   "execution_count": null,
   "id": "8ea49f5b-97e2-41fa-9943-0c5bbf8e4523",
   "metadata": {},
   "outputs": [],
   "source": [
    "# Extracting the year feature from date time \n",
    "df['year'] = df.index.year\n",
    "\n",
    "# Grouping the features of interest by year\n",
    "year_avg = df.groupby('year')[[\n",
    "    'temp',\n",
    "    'humidity',\n",
    "    'wind_speed',\n",
    "    'wind_bearing',\n",
    "    'visibility',\n",
    "    'pressure'\n",
    "]]\n",
    "\n",
    "# Creating subplot layout\n",
    "fig, ax = plt.subplots(2,3, figsize=(15,10))\n",
    "\n",
    "# Main figure title\n",
    "fig.suptitle('Year-over-Year Changes in Recorded Features')\n",
    "\n",
    "# Temperature line plot\n",
    "sns.lineplot(x='year', y='temp', data=df, color='tab:blue', ax=ax[0,0])\n",
    "ax[0,0].set_ylabel('Temperature (C)')\n",
    "ax[0,0].set_xlabel('Time (month)')\n",
    "\n",
    "# Humidity line plot \n",
    "sns.lineplot(x='year', y='humidity', data=df, color='tab:red', ax=ax[0,1])\n",
    "ax[0,1].set_ylabel('Humidity (%)')\n",
    "ax[0,1].set_xlabel('Time (month)')\n",
    "\n",
    "# Wind speed line plot\n",
    "sns.lineplot(x='year', y='wind_speed', data=df, color='tab:purple', ax=ax[0,2])\n",
    "ax[0,2].set_ylabel('Wind Speed (km/h)')\n",
    "ax[0,2].set_xlabel('Time (month)')\n",
    "\n",
    "\n",
    "# Wind bearing line plot\n",
    "sns.lineplot(x='year', y='wind_bearing', data=df, color='tab:green', ax=ax[1,0])\n",
    "ax[1,0].set_ylabel('Wind Bearing(degrees)')\n",
    "ax[1,0].set_xlabel('Time (month)')\n",
    "\n",
    "# Visibility line plot \n",
    "sns.lineplot(x='year', y='visibility', data=df, color='tab:pink', ax=ax[1,1])\n",
    "ax[1,1].set_ylabel('Visibility (km)')\n",
    "ax[1,1].set_xlabel('Time (month)')\n",
    "\n",
    "# Pressure line plot\n",
    "sns.lineplot(x='year', y='pressure', data=df, color='tab:orange', ax=ax[1,2])\n",
    "ax[1,2].set_ylabel('Pressure (milibars)')\n",
    "ax[1,2].set_xlabel('Time (month)')\n"
   ]
  },
  {
   "cell_type": "markdown",
   "id": "19f845e6-faf8-4e6d-9ddd-3e10abc06bf0",
   "metadata": {},
   "source": [
    "## Average wind speed for each direction:"
   ]
  },
  {
   "cell_type": "code",
   "execution_count": null,
   "id": "63f3bd7b-f3b7-491a-a887-6079cbd9db5c",
   "metadata": {},
   "outputs": [],
   "source": [
    "# Select features for the correlation matrix\n",
    "corr_attributes = [\n",
    "    'temp',\n",
    "    'apparent_temp',\n",
    "    'humidity',\n",
    "    'wind_speed',\n",
    "    'wind_bearing',\n",
    "    'visibility',\n",
    "    'pressure'\n",
    "]\n",
    "\n",
    "# Create a data frame with correlations of selected features\n",
    "corr_matrix = df[corr_attributes].corr()\n",
    "\n",
    "# plot the correlation matrix\n",
    "plt.figure(figsize=(10,8))\n",
    "sns.heatmap(corr_matrix, annot=True, cmap='bone')"
   ]
  },
  {
   "cell_type": "code",
   "execution_count": null,
   "id": "71618e71-1496-48a9-9e0f-affd935db953",
   "metadata": {},
   "outputs": [],
   "source": []
  }
 ],
 "metadata": {
  "kernelspec": {
   "display_name": "Python 3 (ipykernel)",
   "language": "python",
   "name": "python3"
  },
  "language_info": {
   "codemirror_mode": {
    "name": "ipython",
    "version": 3
   },
   "file_extension": ".py",
   "mimetype": "text/x-python",
   "name": "python",
   "nbconvert_exporter": "python",
   "pygments_lexer": "ipython3",
   "version": "3.11.5"
  }
 },
 "nbformat": 4,
 "nbformat_minor": 5
}
